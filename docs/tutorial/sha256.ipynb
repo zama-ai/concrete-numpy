{
 "cells": [
  {
   "cell_type": "markdown",
   "metadata": {},
   "source": [
    "#  Coding SHA-256 with concrete numpy\n",
    "\n",
    "\n",
    "\n",
    "## I. SHA-256 introduction\n",
    "SHA is a hashing algorithm taking as input a sequence of bytes of any length, like a text string, and outputing a sequence of fixed length called a hash. This hash will change if the input bytes change ever so slightly, with a very small propability of two inputs having the same hash, and the hash is also impossible to reverse to find one of the possible inputs. This makes SHA a perfect way to create reliable footprints of files, and garantying they don't get corrupted. The SHA-256 is the version outputing a hash of 256 bits (64 hexadecimal characters) hash.  \n",
    "\n",
    "The goal of thhis tutorial is to explain how SHA-256 works and how to make it run on encrypted data using concrete numpy.\n",
    "\n",
    "\n",
    "## II. SHA-256 in python with numpy\n",
    "First of all, let's take a look at the initial algorithm, working on clear, unencrypted inputs, in regular numpy. In the file `sha256_original.py`, it has been coded in python following the [official publication](http://csrc.nist.gov/publications/fips/fips180-4/fips-180-4.pdf) and keeping the exact same notations, for a fixed input length of 150 text characters.\n",
    "\n",
    "### Constants\n",
    "First, let's declare the constants used by the algorithm:\n",
    "- **K256**: an array of 64 **32-bits** integers used in the algorithm (They are the first thirty-two bits of the fractional parts of the cube roots of the first sixty-four prime numbers).\n",
    "- **H_INITIAL**: an array of 8 **32-bits** integers used to initialise H in the algorithm.\n"
   ]
  },
  {
   "cell_type": "code",
   "execution_count": 11,
   "metadata": {},
   "outputs": [],
   "source": [
    "import numpy as np\n",
    "\n",
    "K256 = [\n",
    "    0x428a2f98, 0x71374491, 0xb5c0fbcf, 0xe9b5dba5, 0x3956c25b, 0x59f111f1, 0x923f82a4, 0xab1c5ed5,\n",
    "    0xd807aa98, 0x12835b01, 0x243185be, 0x550c7dc3, 0x72be5d74, 0x80deb1fe, 0x9bdc06a7, 0xc19bf174,\n",
    "    0xe49b69c1, 0xefbe4786, 0x0fc19dc6, 0x240ca1cc, 0x2de92c6f, 0x4a7484aa, 0x5cb0a9dc, 0x76f988da,\n",
    "    0x983e5152, 0xa831c66d, 0xb00327c8, 0xbf597fc7, 0xc6e00bf3, 0xd5a79147, 0x06ca6351, 0x14292967,\n",
    "    0x27b70a85, 0x2e1b2138, 0x4d2c6dfc, 0x53380d13, 0x650a7354, 0x766a0abb, 0x81c2c92e, 0x92722c85,\n",
    "    0xa2bfe8a1, 0xa81a664b, 0xc24b8b70, 0xc76c51a3, 0xd192e819, 0xd6990624, 0xf40e3585, 0x106aa070,\n",
    "    0x19a4c116, 0x1e376c08, 0x2748774c, 0x34b0bcb5, 0x391c0cb3, 0x4ed8aa4a, 0x5b9cca4f, 0x682e6ff3,\n",
    "    0x748f82ee, 0x78a5636f, 0x84c87814, 0x8cc70208, 0x90befffa, 0xa4506ceb, 0xbef9a3f7, 0xc67178f2,\n",
    "]\n",
    "\n",
    "H_INITIAL = [0x6a09e667, 0xbb67ae85, 0x3c6ef372, 0xa54ff53a, 0x510e527f, 0x9b05688c, 0x1f83d9ab, 0x5be0cd19]\n",
    "\n"
   ]
  },
  {
   "cell_type": "markdown",
   "metadata": {},
   "source": [
    "### Preparing the input\n",
    "Let's now prepare our input message from a text of length 150 characters. This message could be any array of bytes of length 150, not necessary a text."
   ]
  },
  {
   "cell_type": "code",
   "execution_count": 12,
   "metadata": {},
   "outputs": [],
   "source": [
    "text = (\n",
    "    b\"Lorem ipsum dolor sit amet, consectetur adipiscing elit. \"\n",
    "    b\"Curabitur bibendum, urna eu bibendum egestas, neque augue eleifend odio, et sagittis viverra.\"\n",
    ")\n",
    "assert len(text) == 150\n",
    "\n",
    "# convert text to byte list and then to numpy array\n",
    "message = list(text)\n",
    "message = np.array(message).astype(np.int32)\n"
   ]
  },
  {
   "cell_type": "markdown",
   "metadata": {},
   "source": [
    "### Padding the message\n",
    "The first operation is a padding of the message that will make the bit length a multiple of 512. In our scenario this function is just a concatenation of constant arrays because the padding content depends only on the length of the message, which is a constant for us. To determine the arrays to concatenate, we followed the steps:\n",
    "- Compute **l** the bit length of the message: `l = 150*8 = 1200`\n",
    "- Find **k** such that `l+k+1 = 448 % 512`, which gives `k=271`\n",
    "- Convert **l** into its 64-bits binary representation, following big-endian encoding (big bits first): `l64 = 00000000...0000010010110000`\n",
    "- Split the bits into bytes (8-bits): `l64_8 = [0,0,0,0,0,0,4,176]`\n",
    "- Write 1 followed by **k** zeros as bytes in **_1k0**\n",
    "- Concatenate the message with **_1k0** and **l64_8**  \n",
    "\n",
    "The padded message has now a bit length of **3** times **512 bits**. Chunks of **512 bits** are called **blocks**.  "
   ]
  },
  {
   "cell_type": "code",
   "execution_count": 13,
   "metadata": {},
   "outputs": [],
   "source": [
    "def padding_150(M):\n",
    "    \"\"\"\n",
    "    SHA-256 padding for a message with fixed lenght of 150 characters (see section 5.1.1 in the paper)\n",
    "    \"\"\"\n",
    "    assert(len(M)==150)\n",
    "   \n",
    "    \"\"\"\n",
    "    Length in bits is : l = 150*8 = 1200\n",
    "    Find k such that l+k+1 = 448 % 512 => this gives k = 271\n",
    "    Convert l=1200 in 64 bits binary: l64 = 0000000000000000000000000000000000000000000000000000010010110000\n",
    "    Convert l64 to an array of 8-bits integers, which is the format of the input message:\n",
    "    l64_8 = [00000000,00000000,00000000,00000000,00000000,00000000,00000100,10110000] = [0,0,0,0,0,0,4,176]\n",
    "    \"\"\"\n",
    "    l64_8 = np.array([0,0,0,0,0,0,4,176]).astype(np.int32)\n",
    "    \n",
    "    \"\"\"\n",
    "    Write 1 followed by k zeros in binary as an array of 8-bits integers:\n",
    "    _1k0 = [ 10000000, 00000000, ..., 00000000]\n",
    "    _1k0 = [128,0,0,0,0,0,0,0,0,0,0,0,0,0,0,0,0,0,0,0,0,0,0,0,0,0,0,0,0,0,0,0,0,0]\n",
    "    \"\"\"\n",
    "    _1k0 = np.array([128,0,0,0,0,0,0,0,0,0,0,0,0,0,0,0,0,0,0,0,0,0,0,0,0,0,0,0,0,0,0,0,0,0]).astype(np.int32)\n",
    "\n",
    "    \"\"\"\n",
    "    The padded message is the concatenation of <M> <1 followed by k zeros> <l in 64 bits> \n",
    "    It has size 192 bytes = 192*8 bits = 3*512 bits = 3 blocks of 512 bits\n",
    "    \"\"\"\n",
    "    return np.concatenate([M, _1k0, l64_8])\n",
    "\n",
    "\n",
    "padded_message = padding_150(message)"
   ]
  },
  {
   "cell_type": "markdown",
   "metadata": {},
   "source": [
    "### Parsing the padded message\n",
    "The parsing consists in regrouping the bits of each block into **16** words of size **32 bits** (512=16\\*32). The original algorithm operates directly on **32-bits** integers, so each word is a **32-bits** integer, but this will be one a the main changes in the next section with concrete numpy."
   ]
  },
  {
   "cell_type": "code",
   "execution_count": 14,
   "metadata": {},
   "outputs": [],
   "source": [
    "def parsing_150(M):\n",
    "    \"\"\"\n",
    "    SHA-256 parsing for a padded message with initial fixed lenght (before padding) of 150 characters\n",
    "    (see section 5.2.1 in the paper)\n",
    "    \"\"\"    \n",
    "    assert(len(M)==192); # after padding, length is now 192\n",
    "    N=3\n",
    "    \"\"\"\n",
    "    We split M into 3 x 64 bytes (3 x 512 bits) and split each 512 bits into 16 words of 32 bits\n",
    "    \"\"\"\n",
    "\n",
    "    # initialize array\n",
    "    parsed_M = np.zeros([N,16])\n",
    "\n",
    "    # loop through blocks\n",
    "    for i in range(0,N):\n",
    "        # loop through words\n",
    "        for j in range(0,16):\n",
    "            # Convert groups of 4 bytes (8-bits integers) into 32-bits integers\n",
    "            ind = 64*i + j*4\n",
    "            parsed_M[i][j]= (M[ind] << 24) ^ (M[ind+1] << 16) ^ (M[ind+2] << 8) ^ M[ind+3]\n",
    "\n",
    "    return parsed_M\n",
    "\n",
    "parsed_message = parsing_150(padded_message)"
   ]
  },
  {
   "cell_type": "markdown",
   "metadata": {},
   "source": [
    "### Hashing the parsed message\n",
    "\n",
    "The algorithm uses functions operating on **32-bits** integers, using the operators:  \n",
    "\n",
    "| Operation | Math symbol | Python symbol |\n",
    "|-----------|--------|-------|\n",
    "| AND | ∧ | `&` |  \n",
    "| OR | ∨ | `\\|` |  \n",
    "| XOR | ⊕ | `^` | \n",
    "| Right-shift | >> | `>>` |  \n",
    "| Left-shift | << | `<<` |  \n",
    "\n",
    "- The **Right-shift** operation of n bits `x >> n` is obtained by discarding the rightmost n bits of x and then padding the result with n zeroes on the left (see function `SHR`)  \n",
    "- The **Left-shift** operation of n bits `x << n` is obtained by discarding the left-most n bits of x and then padding the result with n zeroes on the right (see function `SHL`)  \n",
    "- The **AND** operator can be used to cast a number `x` to 32 bits `x & (2**32 - 1)` which is equal to `x` modulo `2**32` \n",
    "- The `add32` function performs an addition of two integers modulo `2**32` as requested in the publication.  \n",
    "- The right rotate `ROTR` function rotates the bits to the right using the union of a right shift of `n` bits and a left shit of `32-n` bits.  \n",
    "- The `sigma0`, `sigma1`, `SIGMA0`, `SIGMA1`, choice function `Ch`and majority function `Maj` are also defined below."
   ]
  },
  {
   "cell_type": "code",
   "execution_count": 15,
   "metadata": {},
   "outputs": [],
   "source": [
    "TP32=2**32\n",
    "BITS_PER_WORD = 32\n",
    "\n",
    "def SHR(x, n):\n",
    "    \"\"\"\n",
    "    The right shift operation.\n",
    "    Cast x to 32 bits and then shift it of n bits to the right\n",
    "    \"\"\"\n",
    "    return (x & (TP32-1)) >> n\n",
    "\n",
    "def SHL(x, n):\n",
    "    \"\"\"\n",
    "    The left shift operation.\n",
    "    Shift x of n bits to the left and then cast it to 32 bits\n",
    "    \"\"\"\n",
    "    return (x << n) & (TP32-1)\n",
    "\n",
    "def ROTR(x, n):\n",
    "    \"\"\"\n",
    "    The rotate right (circular right shift) operation.\n",
    "    It is a union of a right shift of n bits and a left shit of w-n bits\n",
    "    \"\"\"\n",
    "    return SHR(x,n) | SHL(x,BITS_PER_WORD-n)\n",
    "\n",
    "\n",
    "def Ch(x, y, z):\n",
    "    \"\"\"\n",
    "    The choose function\n",
    "    \"\"\"\n",
    "    return z ^ (x & (y ^ z))\n",
    "\n",
    "\n",
    "def Maj(x, y, z):\n",
    "    \"\"\"\n",
    "    The majority function\n",
    "    \"\"\"\n",
    "    return ((x | y) & z) | (x & y)\n",
    "\n",
    "\n",
    "def SIGMA0(x):\n",
    "    \"\"\"\n",
    "    Upper case sigma 0 function\n",
    "    \"\"\"     \n",
    "    return ROTR(x, 2) ^ ROTR(x, 13) ^ ROTR(x, 22)\n",
    "\n",
    "\n",
    "def SIGMA1(x):\n",
    "    \"\"\"\n",
    "    Upper case sigma 1 function\n",
    "    \"\"\"      \n",
    "    return ROTR(x, 6) ^ ROTR(x, 11) ^ ROTR(x, 25)\n",
    "\n",
    "\n",
    "def sigma0(x):\n",
    "    \"\"\"\n",
    "    Lower case sigma 0 function\n",
    "    \"\"\"\n",
    "    return ROTR(x, 7) ^ ROTR(x, 18) ^ SHR(x, 3)\n",
    "\n",
    "\n",
    "def sigma1(x):\n",
    "    \"\"\"\n",
    "    Lower case sigma 1 function\n",
    "    \"\"\"      \n",
    "    return ROTR(x, 17) ^ ROTR(x, 19) ^ SHR(x, 10)\n",
    "\n",
    "\n",
    "def mod2p32(x):\n",
    "    \"\"\"\n",
    "    Computes x modulo 2**32 which is equivalent to cast x to 32 bits\n",
    "    \"\"\" \n",
    "    return x & (TP32-1)\n",
    "\n",
    "\n",
    "def hexdigest(digest):\n",
    "    \"\"\"\"\n",
    "    Convert bytes (8 bits) to string of hex symbols (4 bits)\n",
    "    \"\"\"\n",
    "    hexdigest = [0]*(2*len(digest));\n",
    "    for i in range(0,len(digest)):\n",
    "        d=digest[i]\n",
    "        hexdigest[i*2] = (d >> 4) & 15\n",
    "        hexdigest[i*2+1] = d & 15\n",
    "\n",
    "    hex_chars = [hex(x)[-1] for x in hexdigest]\n",
    "    return ''.join(hex_chars)\n"
   ]
  },
  {
   "cell_type": "markdown",
   "metadata": {},
   "source": [
    "Now we can write the core of the algorithm, following the same notations as in the original publication:"
   ]
  },
  {
   "cell_type": "code",
   "execution_count": 16,
   "metadata": {},
   "outputs": [
    {
     "name": "stdout",
     "output_type": "stream",
     "text": [
      "digest:  [142  81  42  35 184 164 123 211 178 193  74 131  72 226 202  27 129   5\n",
      "  61 244   8  90  21 189 116 175 166  63 115 114  10 214]\n"
     ]
    }
   ],
   "source": [
    "# initialize array H\n",
    "H=np.zeros(8,dtype=np.int32);\n",
    "for i in range(0,8):\n",
    "    H[i] = H_INITIAL[i];\n",
    "\n",
    "# main loop\n",
    "for i in range(0,3):\n",
    "    #1 prepare the message schedule W\n",
    "    W=np.zeros(64,dtype=np.int32);\n",
    "    W[0:16]=parsed_message[i,:]\n",
    "    for t in range(16,64):\n",
    "        W[t] = mod2p32(sigma1(W[t-2]) + W[t-7] + sigma0(W[t-15]) + W[t-16])\n",
    "\n",
    "    #2 initialize values of a,b,c,d,e,f,g,h with previous values in H\n",
    "    a=H[0]; b=H[1]; c=H[2]; d=H[3]; e=H[4]; f=H[5]; g=H[6]; h=H[7];\n",
    "\n",
    "    #3\n",
    "    for t in range(0,64):\n",
    "        # use mod2p32 to compute the addition modulo 2**32\n",
    "        T1= mod2p32(h + SIGMA1(e) + Ch(e,f,g) + K256[t] + W[t])\n",
    "        T2= mod2p32(SIGMA0(a) + Maj(a,b,c))\n",
    "        h=g; g=f; f=e\n",
    "        e= mod2p32(d + T1)\n",
    "        d=c; c=b; b=a\n",
    "        a= mod2p32(T1+T2)\n",
    "\n",
    "    #4 compute update of H\n",
    "    H[0]=mod2p32(H[0]+a); H[1]=mod2p32(H[1]+b); H[2]=mod2p32(H[2]+c); H[3]=mod2p32(H[3]+d);\n",
    "    H[4]=mod2p32(H[4]+e); H[5]=mod2p32(H[5]+f); H[6]=mod2p32(H[6]+g); H[7]=mod2p32(H[7]+h);\n",
    "\n",
    "\"\"\"\n",
    "Finally, the result is the concatenation of the bits of H\n",
    "\"\"\"\n",
    "# The result is the concatenation of bits of H, which are 8 x 32 bits\n",
    "# 8 x 32 bits is also 32 x 8 bits which is 32 bytes\n",
    "digest = np.zeros(32,dtype=np.short);\n",
    "for i in range(0,8):\n",
    "    h=H[i]\n",
    "    # split 32-bits integers into 4 x 8-bits integers\n",
    "    for j in range(0,4):\n",
    "        digest[i*4+j] = (h >> (8*(3-j))) & 255\n",
    "     \n",
    "print('digest: ', digest)"
   ]
  },
  {
   "cell_type": "markdown",
   "metadata": {},
   "source": [
    "The digest is as expected a sequence of **32 bytes** (32\\*8 bits), which we can also convert into a sequence of **64** hexadecimal characters, called the **hash**:"
   ]
  },
  {
   "cell_type": "code",
   "execution_count": 17,
   "metadata": {},
   "outputs": [
    {
     "name": "stdout",
     "output_type": "stream",
     "text": [
      "8e512a23b8a47bd3b2c14a8348e2ca1b81053df4085a15bd74afa63f73720ad6\n"
     ]
    }
   ],
   "source": [
    "message_hash = hexdigest(digest)\n",
    "print(message_hash)"
   ]
  },
  {
   "cell_type": "markdown",
   "metadata": {},
   "source": [
    "And we can test it against the hashlib library:"
   ]
  },
  {
   "cell_type": "code",
   "execution_count": 18,
   "metadata": {},
   "outputs": [
    {
     "name": "stdout",
     "output_type": "stream",
     "text": [
      "Hash is correct !\n"
     ]
    }
   ],
   "source": [
    "import hashlib\n",
    "\n",
    "hasher = hashlib.sha256()\n",
    "hasher.update(text)\n",
    "assert(message_hash == hasher.hexdigest());\n",
    "print('Hash is correct !')"
   ]
  },
  {
   "cell_type": "markdown",
   "metadata": {},
   "source": [
    "You can use the `sha256_original.py` file for importing the `sha256_150` function or use it directly in the commande line to run tests."
   ]
  },
  {
   "cell_type": "markdown",
   "metadata": {},
   "source": [
    "## III. SHA-256 with concrete numpy\n",
    "\n",
    "Now that we have a straightforward working algorithm coded in python with numpy, let's convert it to a concrete numpy circuit, in order to compute a hash homomorphically on encrypted inputs. The tutorial follows code of the files `sha256.py` and using `utils.py`.\n",
    "\n",
    "### Tackling the bit width limitation issue\n",
    "\n",
    "The biggest issue for converting our algorithm into a concrete circuit is the limitation on the bit width of integers. In our algorithm, integers are **32-bits**, but concrete numpy has for now a limitation with a maximum of 16-bits encrypted integers. We thus need to find a way to represent a **32-bits** integer with an array of smaller integers of **n-bits** with length `nchunks=32/nbits`. Hence we can represent a **32-bits** integer as follows:\n",
    "- **32** integers of **1-bit**\n",
    "- **16** integers of **2-bits**\n",
    "- **8** integers of **4-bits**\n",
    "- **4** integers of **8-bits** \n",
    "\n",
    "We cannot use **2** integers of **16-bits** in this case as we will see in the summing algorithm.\n",
    "\n",
    "#### *1. splitting and merging bits*\n",
    "\n",
    "We first need a function to split the bits of a **32-bits** integer into an array of **n-bits** integers of length `nchunks=32/nbits`:"
   ]
  },
  {
   "cell_type": "code",
   "execution_count": 20,
   "metadata": {},
   "outputs": [
    {
     "name": "stdout",
     "output_type": "stream",
     "text": [
      "[1 1 1 1 1 1 1 1 1 1 1 1 1 1 1 1 1 1 1 1 1 1 1 1 1 1 1 1 1 1 1 1]\n",
      "[3 3 3 3 3 3 3 3 3 3 3 3 3 3 3 3]\n"
     ]
    }
   ],
   "source": [
    "import concrete.numpy as cnp\n",
    "\n",
    "def split_bits(num, nbits, bit_width=32):\n",
    "    \"\"\"\n",
    "    Splits an integer of 'bit_width' bits into smaller integers of 'nbits' bits each.\n",
    "    \"\"\"\n",
    "    # Check if nbits is a valid value\n",
    "    if not (nbits in [1, 2, 4, 8, 16]):\n",
    "        raise ValueError(\"nbits must be in [1, 2, 4, 8, 16]\")\n",
    "\n",
    "    if bit_width<nbits:\n",
    "        raise ValueError(\"nbits must be lower than bit_width\")\n",
    "\n",
    "    # Convert the input integer to binary string\n",
    "    binary_str = format(num, '0' + str(bit_width) + 'b')\n",
    "\n",
    "    # Split the binary string into smaller chunks of 'nbits' bits each\n",
    "    chunks = [binary_str[i:i+nbits] for i in range(0, bit_width, nbits)]\n",
    "\n",
    "    # Convert each chunk to integer\n",
    "    integers = [int(chunk, 2) for chunk in chunks]\n",
    "\n",
    "    # Convert the list of integers to a NumPy array\n",
    "    return np.array(integers)\n",
    "\n",
    "print(split_bits((2**32)-1, 1, bit_width=32))\n",
    "print(split_bits((2**32)-1, 2, bit_width=32))"
   ]
  },
  {
   "cell_type": "markdown",
   "metadata": {},
   "source": [
    "The file `utils.py` also provides a function for merging such array back into a 32-bit integer, and also functions to create an array of arrays from an array of **32-bits** integers, and the reverse."
   ]
  },
  {
   "cell_type": "code",
   "execution_count": 23,
   "metadata": {},
   "outputs": [
    {
     "name": "stdout",
     "output_type": "stream",
     "text": [
      "split and merge correctly\n"
     ]
    }
   ],
   "source": [
    "import utils\n",
    "\n",
    "assert utils.merge_bits( split_bits((2**32)-1, 1, bit_width=32), 1, 32) == (2**32-1)\n",
    "assert utils.merge_bits( split_bits((2**32)-1, 2, bit_width=32), 2, 32) == (2**32-1)\n",
    "print('split and merge correctly')"
   ]
  },
  {
   "cell_type": "code",
   "execution_count": 24,
   "metadata": {},
   "outputs": [
    {
     "name": "stdout",
     "output_type": "stream",
     "text": [
      "[[0 0 0 0 0 0 0 0 0 0 0 0 0 0 0 0 0 0 0 0 0 1 0 0 0 1 0 1 0 1 1 1]\n",
      " [0 0 0 0 0 0 0 0 0 0 0 0 0 0 0 0 0 0 0 0 1 0 0 0 1 0 1 0 1 1 1 0]\n",
      " [0 0 0 0 0 0 0 0 0 0 0 0 0 0 0 0 0 0 0 0 1 1 0 1 0 0 0 0 0 1 0 1]]\n"
     ]
    }
   ],
   "source": [
    "binarray=utils.ints_to_nbits([1111,2222,3333],1,32)\n",
    "print(binarray)"
   ]
  },
  {
   "cell_type": "code",
   "execution_count": 25,
   "metadata": {},
   "outputs": [
    {
     "name": "stdout",
     "output_type": "stream",
     "text": [
      "[1111 2222 3333]\n"
     ]
    }
   ],
   "source": [
    "print(utils.ints_from_nbits( binarray, 1, 32))"
   ]
  },
  {
   "cell_type": "markdown",
   "metadata": {},
   "source": [
    "#### 2. Implementing operations on the n-bits integers array representation\n",
    "We cannot use the regular array summing of two arays to sum these arrays, because if we did, we would get integers going up to **n+1 bits**, leading to an incorrect encoding of the **32-bits** integer represented.  \n",
    "\n",
    "Let's first create a summing algoritm (modulo `2**32`) for two binary arrays reprensenting each a **32-bits** integer, and that can operate homomorphically.  \n",
    "\n",
    "A typical algorithm of this kind could be: \n",
    "```python\n",
    "def sumBin(x: np.ndarray, y: np.ndarray):\n",
    "    result = cnp.zeros(32)\n",
    "    carry = 0\n",
    "    for i in range(32, -1, -1):\n",
    "        # Calculate the sum of the current integer and the carry\n",
    "        s = x[i] + y[i] + carry\n",
    "        # If the sum is greater than 3, there is a carry for the next integer\n",
    "        if s > 1:\n",
    "            carry = 1\n",
    "            s -= 2\n",
    "        else:\n",
    "            carry = 0\n",
    "        # Set the current integer in the result, last carry is unused modulo 2**32\n",
    "        result[i] = s\n",
    "    return result\n",
    "\n",
    "```\n",
    "\n",
    "The main issue here would be that comparing `s > 1` would not work on encrypted data. So we need to make it without the use of a carry. The following algorithm uses instead only homomorphic operations:"
   ]
  },
  {
   "cell_type": "code",
   "execution_count": 2,
   "metadata": {},
   "outputs": [
    {
     "ename": "NameError",
     "evalue": "name 'np' is not defined",
     "output_type": "error",
     "traceback": [
      "\u001b[0;31m---------------------------------------------------------------------------\u001b[0m",
      "\u001b[0;31mNameError\u001b[0m                                 Traceback (most recent call last)",
      "\u001b[0;32m<ipython-input-2-ec758065d39e>\u001b[0m in \u001b[0;36m<module>\u001b[0;34m\u001b[0m\n\u001b[0;32m----> 1\u001b[0;31m \u001b[0;32mdef\u001b[0m \u001b[0msumBin\u001b[0m\u001b[0;34m(\u001b[0m\u001b[0mx\u001b[0m\u001b[0;34m:\u001b[0m \u001b[0mnp\u001b[0m\u001b[0;34m.\u001b[0m\u001b[0mndarray\u001b[0m\u001b[0;34m,\u001b[0m \u001b[0my\u001b[0m\u001b[0;34m:\u001b[0m \u001b[0mnp\u001b[0m\u001b[0;34m.\u001b[0m\u001b[0mndarray\u001b[0m\u001b[0;34m)\u001b[0m\u001b[0;34m:\u001b[0m\u001b[0;34m\u001b[0m\u001b[0;34m\u001b[0m\u001b[0m\n\u001b[0m\u001b[1;32m      2\u001b[0m         \"\"\"\n\u001b[1;32m      3\u001b[0m         \u001b[0mAddition\u001b[0m \u001b[0mmod\u001b[0m \u001b[0;36m2\u001b[0m\u001b[0;34m**\u001b[0m\u001b[0;36m32\u001b[0m \u001b[0mof\u001b[0m \u001b[0mtwo\u001b[0m \u001b[0;36m32\u001b[0m\u001b[0;34m-\u001b[0m\u001b[0mbits\u001b[0m \u001b[0mintegers\u001b[0m \u001b[0mencoded\u001b[0m \u001b[0;32mas\u001b[0m \u001b[0marrays\u001b[0m \u001b[0mof\u001b[0m \u001b[0;36m32\u001b[0m \u001b[0;36m1\u001b[0m\u001b[0;34m-\u001b[0m\u001b[0mbit\u001b[0m \u001b[0mintegers\u001b[0m\u001b[0;34m\u001b[0m\u001b[0;34m\u001b[0m\u001b[0m\n\u001b[1;32m      4\u001b[0m         \"\"\"\n\u001b[1;32m      5\u001b[0m         \u001b[0mn\u001b[0m\u001b[0;34m=\u001b[0m\u001b[0;36m32\u001b[0m\u001b[0;34m-\u001b[0m\u001b[0;36m1\u001b[0m\u001b[0;34m\u001b[0m\u001b[0;34m\u001b[0m\u001b[0m\n",
      "\u001b[0;31mNameError\u001b[0m: name 'np' is not defined"
     ]
    }
   ],
   "source": [
    "def sumBin(x: np.ndarray, y: np.ndarray):\n",
    "        \"\"\"\n",
    "        Addition mod 2**32 of two 32-bits integers encoded as arrays of 32 1-bit integers\n",
    "        \"\"\"\n",
    "        n=32-1\n",
    "        z=np.zeros(32, dtype=np.uint32)\n",
    "        # first sum the last integer (starting from the end to account for big-endian bit encoding)\n",
    "        z[n] = x[n] + y[n]\n",
    "\n",
    "        for i in range(1,32):\n",
    "            # each integer of the result is then the sum of the integers of the inputs\n",
    "            # and of the previously summed integer shifted of 1 bit\n",
    "            z[n-i] = x[n-i] + y[n-i] + (z[n-i+1] >> 1)\n",
    "            # then we cast this previous integer to 1 bit\n",
    "            z[n-i+1] = z[n-i+1] & (2**1-1) \n",
    "\n",
    "        # finally cast the first integer (32th bit) to 1 bit so the result is a sum modulo 2**32\n",
    "        z[0] = z[0] & (2**1-1)\n",
    "        \n",
    "        return z\n",
    "        \n",
    "# test it on our binary array\n",
    "result1 = sumBin(binarray[0,:], binarray[1,:])\n",
    "assert( np.all(result1==binarray[2,:]))\n",
    "print('sum: ',result1)"
   ]
  },
  {
   "cell_type": "markdown",
   "metadata": {},
   "source": [
    "Now we can make this code **generic** by making a **template** function that can deal with other bit widths. In python this can be made with either a factory function (see later) or a **class** definition taking the `nbits` value at initiliazation.\n",
    "\n",
    "We can also specify wether we want to use concrete numpy or simply numpy. This is not mandatory for creating a circuit in concrete numpy, but it is very usefull for debugging, because we can compare the outputs produced by the numpy only, clear version, and the concrete numpy, homomorphic version. For now, let's test with numpy only.\n",
    "\n",
    "Note that when we add up two integers, we need to store them in an integer that at least 1 more bit.  \n",
    "This is why we cannot use **16-bits** integers here, because they would require a **17-bits** integer that is not availabe in concrete numpy."
   ]
  },
  {
   "cell_type": "code",
   "execution_count": 27,
   "metadata": {},
   "outputs": [
    {
     "name": "stdout",
     "output_type": "stream",
     "text": [
      "[[0 0 0 0 0 0 0 0 0 0 1 0 1 1 1 3]\n",
      " [0 0 0 0 0 0 0 0 0 0 2 0 2 2 3 2]\n",
      " [0 0 0 0 0 0 0 0 0 0 3 1 0 0 1 1]]\n",
      "\n",
      "result: [0 0 0 0 0 0 0 0 0 0 3 1 0 0 1 1]\n"
     ]
    }
   ],
   "source": [
    "class FnSplit:\n",
    "    \"\"\"\n",
    "    Mother class of factory classes for functions operating on 32-bits integers encoded into several smaller integers\n",
    "    \"\"\"\n",
    "    def __init__(self, nbits, use_cnp=True):\n",
    "        assert( nbits in [1,2,4,8,16] )\n",
    "        self.nbits = nbits\n",
    "        self.nchunks = int(32/nbits)        \n",
    "        self._2p_nbits = 2**nbits\n",
    "        if use_cnp:\n",
    "            self.zeros = lambda : cnp.zeros(self.nchunks)\n",
    "        else:\n",
    "            self.zeros = lambda : np.zeros(self.nchunks, dtype=np.uint32)\n",
    "\n",
    "\n",
    "class AddSplit(FnSplit):\n",
    "    \"\"\"\n",
    "    Factory class for Addition functions operating on 32-bits integers encoded into several smaller integers\n",
    "    \"\"\"\n",
    "    def __call__(self, x: np.ndarray, y: np.ndarray):\n",
    "        \"\"\"\n",
    "        Addition mod 2**32 of two 32-bits integers encoded as arrays of nchunks n-bits integers (big-endian)\n",
    "        \"\"\"\n",
    "        z = self.zeros()\n",
    "        n=self.nchunks-1\n",
    "        z[n] = x[n] + y[n] # z will need 1 more bit than x and y, so they cannot be 16 bits\n",
    "\n",
    "        for i in range(1,self.nchunks):\n",
    "            z[n-i] = x[n-i] + y[n-i] + (z[n-i+1] >> self.nbits)\n",
    "            z[n-i+1] = z[n-i+1] & (self._2p_nbits-1) \n",
    "\n",
    "        # cast first integer to nbits to be modulo 2**32\n",
    "        z[0] = z[0] & (self._2p_nbits-1)\n",
    "\n",
    "        return z\n",
    "\n",
    "        \n",
    "# create a function to sum modulo 2**32 two arrays with 2-bits encoding\n",
    "add2 = AddSplit(2, False)\n",
    "\n",
    "twoBitsArray=utils.ints_to_nbits([1111,2222,3333],2,32)\n",
    "print(twoBitsArray)\n",
    "\n",
    "result2 = add2(twoBitsArray[0,:], twoBitsArray[1,:])\n",
    "assert( np.all(result2==twoBitsArray[2,:]))\n",
    "print(\"\\nresult:\",result2)"
   ]
  },
  {
   "cell_type": "markdown",
   "metadata": {},
   "source": [
    "In the same way, let's make a **template** function for the right rotation of the bits of a **32-bits** integer encoded as an array of **n-bits** integers. Making a **template** function also allows us to store some variables locally in the class that will serve the computation, and not bother with them outside.  \n",
    "\\\n",
    "To rotate the encoded 32-bits integer of `y` bits, the idea is to first decompose `y` into `yc` and `yr` such that `y = yc*nbits + yr`, then to rotate the whole array of `yc` spots, and then to rotate each integer of the new array of the remaining `yr` bits, where `yr` is now smaller than `nbits`.  \n",
    "\n",
    "The parameter `y` will not be encrypted, it is a known constant. So, we can write conditions such as `if(yc>0):`. At the opposite, `x` will be encrypted, so we need to work on it with only homomorphic compatible operations such as bit shifting `>>`, bitwse AND `&`, addition `+` etc."
   ]
  },
  {
   "cell_type": "code",
   "execution_count": 3,
   "metadata": {},
   "outputs": [
    {
     "ename": "NameError",
     "evalue": "name 'FnSplit' is not defined",
     "output_type": "error",
     "traceback": [
      "\u001b[0;31m---------------------------------------------------------------------------\u001b[0m",
      "\u001b[0;31mNameError\u001b[0m                                 Traceback (most recent call last)",
      "\u001b[0;32m<ipython-input-3-37252cc4c4ef>\u001b[0m in \u001b[0;36m<module>\u001b[0;34m\u001b[0m\n\u001b[0;32m----> 1\u001b[0;31m \u001b[0;32mclass\u001b[0m \u001b[0mROTRSplit\u001b[0m\u001b[0;34m(\u001b[0m\u001b[0mFnSplit\u001b[0m\u001b[0;34m)\u001b[0m\u001b[0;34m:\u001b[0m\u001b[0;34m\u001b[0m\u001b[0;34m\u001b[0m\u001b[0m\n\u001b[0m\u001b[1;32m      2\u001b[0m     \"\"\"\n\u001b[1;32m      3\u001b[0m     \u001b[0mFactory\u001b[0m \u001b[0;32mclass\u001b[0m \u001b[0;32mfor\u001b[0m \u001b[0mROTR\u001b[0m \u001b[0mfunctions\u001b[0m \u001b[0moperating\u001b[0m \u001b[0mon\u001b[0m \u001b[0;36m32\u001b[0m\u001b[0;34m-\u001b[0m\u001b[0mbits\u001b[0m \u001b[0mintegers\u001b[0m \u001b[0mencoded\u001b[0m \u001b[0minto\u001b[0m \u001b[0mseveral\u001b[0m \u001b[0msmaller\u001b[0m \u001b[0mintegers\u001b[0m\u001b[0;34m\u001b[0m\u001b[0;34m\u001b[0m\u001b[0m\n\u001b[1;32m      4\u001b[0m     \"\"\"       \n\u001b[1;32m      5\u001b[0m \u001b[0;34m\u001b[0m\u001b[0m\n",
      "\u001b[0;31mNameError\u001b[0m: name 'FnSplit' is not defined"
     ]
    }
   ],
   "source": [
    "class ROTRSplit(FnSplit):\n",
    "    \"\"\"\n",
    "    Factory class for ROTR functions operating on 32-bits integers encoded into several smaller integers\n",
    "    \"\"\"       \n",
    "\n",
    "    def __call__(self, x: np.ndarray, y: np.uint32):\n",
    "        \"\"\"\n",
    "        Right bits rotation of a 32-bits integers encoded as array of nchunks n-bits integers (big-endian)\n",
    "        \"\"\"  \n",
    "        z = self.zeros()\n",
    "        temp = self.zeros()\n",
    "\n",
    "        # first right rotate array of amount int(y/nbits)\n",
    "        yc = int(y/self.nbits)\n",
    "        if(yc>0):\n",
    "            # right shift of yc chunks\n",
    "            temp[yc:] = x[:-yc]\n",
    "            # left shift of nchunks-yc chunks\n",
    "            temp[:yc] = x[-yc:]\n",
    "        else:\n",
    "            temp[:] = x[:]\n",
    "\n",
    "        # now rotate everything with remaining shift\n",
    "        yr = y%self.nbits\n",
    "        if(self.nbits>1 and yr>0):\n",
    "            for i in range(0,self.nchunks):\n",
    "                z[i] = (temp[i] >> yr) + ( (temp[i-1] << (self.nbits-yr)) & (self._2p_nbits-1) )\n",
    "        else:\n",
    "            z[:] = temp[:]\n",
    "\n",
    "        return z\n",
    "            \n",
    "            \n",
    "# test it on the previous arrays, using only numpy for now:\n",
    "rotr1 = ROTRSplit(1, use_cnp=False)\n",
    "result1 = rotr1(binarray[2,:], 3)\n",
    "print('binary array:')\n",
    "print(binarray[2,:])\n",
    "print('\\nthe array is right rotated of 3 bits:')\n",
    "print(result1)\n",
    "\n",
    "rotr2 = ROTRSplit(2, use_cnp=False)\n",
    "result2 = rotr2(twoBitsArray[2,:], 2)\n",
    "print('\\n2-bits array:')\n",
    "print(twoBitsArray[2,:])\n",
    "print('\\nthe bits are right rotated of 2 bits, which causes the 2-bits integers to be rotated themselves in the array:')\n",
    "print(result2)\n",
    "result2 =rotr2(twoBitsArray[2,:], 3)\n",
    "print('\\nWith 3 bits rotation, the integers are modified, but the overal bit sequence is well rotated:')\n",
    "print(result2)"
   ]
  },
  {
   "cell_type": "markdown",
   "metadata": {},
   "source": [
    "We can do a similar function for the right shift operation, where we first shift the array of integers itself of `yc` spots, then we shift the bits with the remaining `yr` shift.  \n",
    "\\\n",
    "Note that during the shifting of the array, we need to set the left values of the array to zero. To do this on encrypted data, we cannot use the value `0`, so we use the values in `cnp.zeros(.)` which are encrypted zeros."
   ]
  },
  {
   "cell_type": "code",
   "execution_count": 29,
   "metadata": {},
   "outputs": [
    {
     "name": "stdout",
     "output_type": "stream",
     "text": [
      "binary array:\n",
      "[0 0 0 0 0 0 0 0 0 0 0 0 0 0 0 0 0 0 0 0 1 1 0 1 0 0 0 0 0 1 0 1]\n",
      "\n",
      "the array is right shifted of 3 bits:\n",
      "[0 0 0 0 0 0 0 0 0 0 0 0 0 0 0 0 0 0 0 0 0 0 0 1 1 0 1 0 0 0 0 0]\n",
      "\n",
      "2-bits array:\n",
      "[0 0 0 0 0 0 0 0 0 0 3 1 0 0 1 1]\n",
      "\n",
      "the bits are right shifted of 2 bits, which causes the 2-bits integers to be shifted themselves in the array:\n",
      "[0 0 0 0 0 0 0 0 0 0 0 3 1 0 0 1]\n",
      "\n",
      "With 3 bits shifting, the integers are modified, lefts ones stay 0\n",
      "[0 0 0 0 0 0 0 0 0 0 0 1 2 2 0 0]\n"
     ]
    }
   ],
   "source": [
    "class SHRSplit(FnSplit):\n",
    "    \"\"\"\n",
    "    Factory class for SHR functions operating on 32-bits integers encoded into several smaller integers \n",
    "    \"\"\"\n",
    "\n",
    "    def __call__(self, x: np.ndarray, y: np.uint32):\n",
    "        \"\"\"\n",
    "        Right shift of a 32-bits integers encoded as array of nchunks n-bits integers (big-endian)\n",
    "        \"\"\"        \n",
    "        # first right shift array of int(y/nbits)\n",
    "\n",
    "        z = self.zeros()\n",
    "        temp = self.zeros()\n",
    "\n",
    "        yc = int(y/self.nbits)\n",
    "        if(yc>0):\n",
    "            # right shift of yc chunks\n",
    "            temp[yc:] = x[:-yc]\n",
    "            # the left values are null\n",
    "        else:\n",
    "            temp[:] = x[:]\n",
    "\n",
    "        # now shift everything with remaining shift\n",
    "        yr = y%self.nbits\n",
    "        if(self.nbits>1 and yr>0):\n",
    "            for i in range(1,self.nchunks):\n",
    "                z[i] = (temp[i] >> yr) + ( (temp[i-1] << (self.nbits-yr)) & (self._2p_nbits-1) )\n",
    "            z[0] = (temp[0] >> yr) # first chunk is a simple right shift\n",
    "        else:\n",
    "            z[:] = temp[:]\n",
    "\n",
    "        return z\n",
    "\n",
    "# test it on the previous arrays, using only numpy for now:\n",
    "shr1 = SHRSplit(1, use_cnp=False)\n",
    "result1 = shr1(binarray[2,:], 3)\n",
    "print('binary array:')\n",
    "print(binarray[2,:])\n",
    "print('\\nthe array is right shifted of 3 bits:')\n",
    "print(result1)\n",
    "\n",
    "shr2 = SHRSplit(2, use_cnp=False)\n",
    "result2 = shr2(twoBitsArray[2,:], 2)\n",
    "print('\\n2-bits array:')\n",
    "print(twoBitsArray[2,:])\n",
    "print('\\nthe bits are right shifted of 2 bits, which causes the 2-bits integers to be shifted themselves in the array:')\n",
    "print(result2)\n",
    "result2 = shr2(twoBitsArray[2,:], 3)\n",
    "print('\\nWith 3 bits shifting, the integers are modified, lefts ones stay 0')\n",
    "print(result2)"
   ]
  },
  {
   "cell_type": "markdown",
   "metadata": {},
   "source": [
    "In the same fashion, we can design a template class `Sigmas` to hold the four functions `sigma0`, `sigma1`, `SIGMA0`, `SIGMA1` using internally a `ROTR` and a `SHR` as well as the bitwise **XOR** operator `^` which is included in concrete numpy:"
   ]
  },
  {
   "cell_type": "code",
   "execution_count": 30,
   "metadata": {},
   "outputs": [],
   "source": [
    "class Sigmas(FnSplit):\n",
    "    \"\"\"\n",
    "    Class holding variables to run sigma functions\n",
    "    \"\"\"\n",
    "    def __init__(self, nbits, use_cnp=True):\n",
    "        FnSplit.__init__(self, nbits)        \n",
    "\n",
    "        self.ROTR = ROTRSplit(nbits,use_cnp)\n",
    "        self.SHR = SHRSplit(nbits,use_cnp)\n",
    "\n",
    "    def SIGMA0(self, x: np.ndarray):\n",
    "        \"\"\"\n",
    "        Upper case sigma 0 function\n",
    "        \"\"\"     \n",
    "        return self.ROTR(x, 2) ^ self.ROTR(x, 13) ^ self.ROTR(x, 22);\n",
    "\n",
    "    def SIGMA1(self, x: np.ndarray):\n",
    "        \"\"\"\n",
    "        Upper case sigma 1 function\n",
    "        \"\"\"      \n",
    "        return self.ROTR(x, 6) ^ self.ROTR(x, 11) ^ self.ROTR(x, 25);\n",
    "\n",
    "\n",
    "    def sigma0(self, x: np.ndarray):\n",
    "        \"\"\"\n",
    "        Lower case sigma 0 function\n",
    "        \"\"\"\n",
    "        return self.ROTR(x, 7) ^ self.ROTR(x, 18) ^ self.SHR(x, 3);\n",
    "\n",
    "\n",
    "    def sigma1(self, x: np.ndarray):\n",
    "        \"\"\"\n",
    "        Lower case sigma 1 function\n",
    "        \"\"\"   \n",
    "        return self.ROTR(x, 17) ^ self.ROTR(x, 19) ^ self.SHR(x, 10);\n"
   ]
  },
  {
   "cell_type": "markdown",
   "metadata": {},
   "source": [
    "#### 3. Processing the inputs to fit our new integers representation\n",
    "Before jumping to the core algorithm, we need to process the input text and the constants to convert them into the **n-bits** representation.  \n",
    "\n",
    "We also perform the padding operation here, before encryption, because the padded part would need to get encrypted during the computation, which we can as well do before. Also, doing so hides the length of the message, which makes it an even better secret."
   ]
  },
  {
   "cell_type": "code",
   "execution_count": 31,
   "metadata": {},
   "outputs": [],
   "source": [
    "def processInput(text, H, K256_, nbits):\n",
    "    \"\"\"\"\n",
    "    Processes SHA-256 inputs for concrete-numpy circuit\n",
    "    \"\"\"    \n",
    "    # convert text to uint8\n",
    "    textAsInts = list(text)\n",
    "\n",
    "    # apply padding \n",
    "    textAsInts = padding_150(textAsInts)\n",
    "\n",
    "    # convert text from 8 bits to nbits\n",
    "    textAsInts = utils.ints_to_nbits(textAsInts, nbits, 8).flatten() # flatten this one\n",
    "    # convert constants from 32 (default) bits to nbits\n",
    "    H_nbits = utils.ints_to_nbits(H, nbits)\n",
    "    K256_nbits = utils.ints_to_nbits(K256_, nbits)\n",
    "\n",
    "    return (textAsInts, H_nbits, K256_nbits)"
   ]
  },
  {
   "cell_type": "markdown",
   "metadata": {},
   "source": [
    "We will also need a function to convert the ouptut back to a readable format by converting it to a hexadecimal hash:"
   ]
  },
  {
   "cell_type": "code",
   "execution_count": 32,
   "metadata": {},
   "outputs": [],
   "source": [
    "def outputToHash(output, nbits):\n",
    "    \"\"\"\"\n",
    "    Processes the circuit output into a hexadecimal hash\n",
    "    \"\"\"      \n",
    "    nchunks = int(32/nbits)\n",
    "\n",
    "    # first convert output back to uint8 values\n",
    "    output32 = utils.ints_from_nbits(output.reshape((8,nchunks)),nbits,32)\n",
    "    output8 = utils.ints_to_nbits( output32, 8, 32)\n",
    "    \n",
    "    # also convert to hex\n",
    "    outputHash = hexdigest(output8.flatten())\n",
    "\n",
    "    return outputHash\n"
   ]
  },
  {
   "cell_type": "markdown",
   "metadata": {},
   "source": [
    "### Implementing the core algorithm\n",
    "\n",
    "Now we can finally proceed to implementing the core algorithm. The main changes with the simple python version are the use of arrays of **n-bits** integers instead of simple **32-bits** integers, and the use of the corresponding operators to sum, rotate them etc. Thus, instead of directly summing many variables, we must split the sum into several summing operations.  \n",
    "\n",
    "As earlier, let's make a class factory for **SHA-256** circuit with:\n",
    "- Template value of **n** bits.\n",
    "- The possibility to run with **numpy** only\n",
    "- A **quick test** mode that will not loop, useful for testing quicly with concrete numpy.  \n",
    "\n",
    "We provide as encrypted inputs to the circuit the preprocessed values of our text message, but also of the constants `H_INITIAL` and `K256` which are also inputs of the algorithm.  \n",
    "\n",
    "When dealing with array objects, make sure to copy the array values and not the array objects themselves, by using for instance the notation `h[:]=g[:]`."
   ]
  },
  {
   "cell_type": "code",
   "execution_count": 33,
   "metadata": {},
   "outputs": [],
   "source": [
    "def sha256CircuitFactory(nbits, use_cnp=True, quick_test=False):\n",
    "\n",
    "    assert(nbits in [1,2,4,8])\n",
    "    nchunks = int(32/nbits)\n",
    "\n",
    "    if use_cnp:\n",
    "        zeros = lambda shape: cnp.zeros(shape)\n",
    "        types = {1:cnp.uint1, 2:cnp.uint2, 4:cnp.uint4, 8:cnp.uint8}\n",
    "        tensorTypes = (cnp.tensor[types[nbits], int(nchunks*192*8/32) ],\n",
    "                       cnp.tensor[types[nbits], 8, nchunks],\n",
    "                       cnp.tensor[types[nbits], 64, nchunks])\n",
    "    else:\n",
    "        # Warning, with numpy the inputs array H is modified by the circuit\n",
    "        zeros = lambda shape: np.zeros(shape, dtype=np.uint32)\n",
    "        tensorTypes = (np.ndarray, np.ndarray, np.ndarray)        \n",
    "\n",
    "    #create functions for processing n-bits\n",
    "    sigmas = Sigmas(nbits, use_cnp)\n",
    "    add = AddSplit(nbits, use_cnp)\n",
    "\n",
    "    # the computation being slow, a quick test can be made by setting these variables to 1\n",
    "    N = 3 if not quick_test else 1\n",
    "    Nt = 64 if not quick_test else 1  \n",
    "\n",
    "    def sha256_150(M: tensorTypes[0], H: tensorTypes[1], K256: tensorTypes[2]):\n",
    "        \"\"\"\n",
    "        SHA-256 implementation for a message with fixed lenght of 150 characters encoded as 150x8 binary values\n",
    "        Returns a digest of 32 bytes\n",
    "        \"\"\"\n",
    "\n",
    "        print('Compiling sha256_150...')\n",
    "\n",
    "        \"\"\"\n",
    "        padding is already done, so apply parsing: making 3x16 32-bits words encoded as nchunks nbits integers\n",
    "        \"\"\"\n",
    "        parsed_M = M.reshape((3,16,nchunks))\n",
    "\n",
    "        \"\"\"\n",
    "        Then, proceed to the main computation (see section 6.2 in the paper)\n",
    "        \"\"\"\n",
    "\n",
    "        #create W and a,b,c,d,e,f,g arrays\n",
    "        W=zeros((64,nchunks))        \n",
    "        a=zeros(nchunks); b=zeros(nchunks); c=zeros(nchunks); d=zeros(nchunks);\n",
    "        e=zeros(nchunks); f=zeros(nchunks); g=zeros(nchunks); h=zeros(nchunks);\n",
    "\n",
    "        #main loop\n",
    "        for i in range(0,N):\n",
    "            #1 prepare the message schedule W\n",
    "            W[0:16,:]=parsed_M[i,:,:]\n",
    "            for t in range(16,Nt):\n",
    "                W[t] = add(add(sigmas.sigma1(W[t-2]), W[t-7]),\n",
    "                           add(sigmas.sigma0(W[t-15]), W[t-16]))\n",
    "\n",
    "            #2 initialize values of a,b,c,d,e,f,g,h with previous values in H\n",
    "            a[:]=H[0]; b[:]=H[1]; c[:]=H[2]; d[:]=H[3]; e[:]=H[4]; f[:]=H[5]; g[:]=H[6]; h[:]=H[7];\n",
    "\n",
    "            #3\n",
    "            for t in range(0,Nt):\n",
    "                T1 = add( add(h, sigmas.SIGMA1(e)), add( add(Ch(e,f,g),K256[t]),  W[t]))\n",
    "                T2 = add(sigmas.SIGMA0(a), Maj(a,b,c))\n",
    "                h[:]=g[:]; g[:]=f[:]; f[:]=e[:] # ! be sure to copy values with [:] and not the array objects\n",
    "                e = add(d,T1)\n",
    "                d[:]=c[:]; c[:]=b[:]; b[:]=a[:]\n",
    "                a = add(T1,T2)\n",
    "\n",
    "            if quick_test:\n",
    "                # return (a,b,c,d,e,f,g,h) in H. Warning: the hash will be incorrect\n",
    "                H[0,:]=a[:]; H[1,:]=b[:]; H[2,:]=c[:]; H[3,:]=d[:];\n",
    "                H[4,:]=e[:]; H[5,:]=f[:]; H[6,:]=g[:]; H[7,:]=h[:];\n",
    "                break\n",
    "\n",
    "            #4 compute update of H\n",
    "            H[0]=add(H[0],a); H[1]=add(H[1],b); H[2]=add(H[2],c); H[3]=add(H[3],d);\n",
    "            H[4]=add(H[4],e); H[5]=add(H[5],f); H[6]=add(H[6],g); H[7]=add(H[7],h);\n",
    "\n",
    "        \"\"\"\n",
    "        Finally, the result is the concatenation of the values of H\n",
    "        \"\"\"\n",
    "        print('Done')    \n",
    "        return H.reshape((8*nchunks,))\n",
    "\n",
    "    # create this function to copy the value of H in python mode, otherwise it is modified by the circuit\n",
    "    def circuit(M: tensorTypes[0], H: tensorTypes[1], K256: tensorTypes[2]):\n",
    "        return sha256_150(M, H if use_cnp else H.copy(), K256)\n",
    "\n",
    "    return circuit"
   ]
  },
  {
   "cell_type": "markdown",
   "metadata": {},
   "source": [
    "Note that we did the parsing in one step this time with a simple reshaping, because we had already preprocessed the input bit sequence.\n",
    "\n",
    "Now let's test this circuit with **numpy** only, and compare it to the hashing library **hashlib**:"
   ]
  },
  {
   "cell_type": "code",
   "execution_count": 48,
   "metadata": {},
   "outputs": [
    {
     "name": "stdout",
     "output_type": "stream",
     "text": [
      "Compiling sha256_150...\n",
      "Done\n",
      "8e512a23b8a47bd3b2c14a8348e2ca1b81053df4085a15bd74afa63f73720ad6\n",
      "\n",
      "hashes are equal !\n"
     ]
    }
   ],
   "source": [
    "# process input for n-bit encoding\n",
    "nbits=2\n",
    "(textAsInts, H_nbits, K256_nbits) = processInput(text, H_INITIAL, K256, nbits)\n",
    "\n",
    "# create the full circuit for numpy only to test it\n",
    "sha256circuit = sha256CircuitFactory(nbits, use_cnp=False, quick_test=False)\n",
    "\n",
    "# no encryption, trivial computation with numpy\n",
    "output = sha256circuit(textAsInts, H_nbits, K256_nbits)\n",
    "\n",
    "# compute expected output with hashlib\n",
    "hasher = hashlib.sha256()\n",
    "hasher.update(text)\n",
    "\n",
    "# Finally, convert output into a hexadecimal hash and compare it to hashlib\n",
    "outputHash = outputToHash(output, nbits)\n",
    "expectedHash = hasher.hexdigest()\n",
    "\n",
    "print(outputHash)\n",
    "assert(outputHash==expectedHash)\n",
    "print(\"\\nhashes are equal !\")"
   ]
  },
  {
   "cell_type": "markdown",
   "metadata": {},
   "source": [
    "The circuit runs correctly with numpy. Let's now test it in **quick test** mode for both numpy and concrete, and compare the results.  \n",
    "Note that input set must have values of maximum `2**nbits-1`, if not correctly set this will lead to errors."
   ]
  },
  {
   "cell_type": "code",
   "execution_count": 46,
   "metadata": {},
   "outputs": [
    {
     "name": "stdout",
     "output_type": "stream",
     "text": [
      "Compiling sha256_150...\n",
      "Done\n",
      "4877fab26a09e667bb67ae853c6ef372e5375507510e527f9b05688c1f83d9ab\n",
      "hashes are equal !\n"
     ]
    }
   ],
   "source": [
    "# create quick mode circuits for numpy and concrete\n",
    "sha256circuit_quick_np = sha256CircuitFactory(nbits, use_cnp=False, quick_test=True)\n",
    "sha256circuit_quick_cnp = sha256CircuitFactory(nbits, use_cnp=True, quick_test=True)\n",
    "\n",
    "# compile the cnp circuit\n",
    "configuration = cnp.Configuration(\n",
    "    enable_unsafe_features=True,\n",
    "    use_insecure_key_cache=True,\n",
    "    insecure_key_cache_location=\".keys\",\n",
    ")\n",
    "\n",
    "nchunks=int(32/nbits)\n",
    "\n",
    "compiler = cnp.Compiler(sha256circuit_quick_cnp, {\"M\": \"encrypted\", \"H\": \"encrypted\", \"K256\": \"encrypted\"})\n",
    "circuit = compiler.compile(\n",
    "    inputset=[\n",
    "        ( np.random.randint(0, 2**nbits, size=(int(192*8*nchunks/32),) ),\n",
    "          np.random.randint(0, 2**nbits, size=(8,nchunks)), \n",
    "          np.random.randint(0, 2**nbits, size=(64,nchunks)) )\n",
    "        for _ in range(100)\n",
    "    ],\n",
    "    configuration=configuration,\n",
    "    verbose=True,\n",
    ")\n",
    "\n",
    "# run circuits\n",
    "output_np = sha256circuit_quick_np( textAsInts, H_nbits, K256_nbits )\n",
    "output_cnp = circuit.encrypt_run_decrypt( textAsInts, H_nbits, K256_nbits )\n",
    "\n",
    "# these hash are not the true result of SHA-256 but they should be equal if everything is working well\n",
    "hash_np = outputToHash(output_np, nbits)\n",
    "hash_cnp = outputToHash(output_cnp, nbits)\n",
    "\n",
    "print(hash_np)\n",
    "assert(hash_np==hash_cnp)\n",
    "print('hashes are equal !')"
   ]
  },
  {
   "cell_type": "markdown",
   "metadata": {},
   "source": [
    "You can try out the time it takes for different values of **n-bits**. The **1-bit** and **2-bits** versions should be by far the fastest.  \n",
    "\n",
    "Finally, if you have a fast computer at your disposition, you can create the full concrete version of the circuit and run it:\n",
    "\n",
    "```python\n",
    "\n",
    "# create full circuit for concrete\n",
    "sha256circuit_full_cnp = sha256CircuitFactory(nbits, use_cnp=True, quick_test=False)\n",
    "\n",
    "# compile the cnp circuit\n",
    "configuration = cnp.Configuration(\n",
    "    enable_unsafe_features=True,\n",
    "    use_insecure_key_cache=True,\n",
    "    insecure_key_cache_location=\".keys\",\n",
    ")\n",
    "\n",
    "compiler = cnp.Compiler(sha256circuit_full_cnp, {\"M\": \"encrypted\", \"H\": \"encrypted\", \"K256\": \"encrypted\"})\n",
    "circuit = compiler.compile(\n",
    "    inputset=[\n",
    "        ( np.random.randint(0, 2**nbits, size=(int(192*8*nchunks/32),) ),\n",
    "          np.random.randint(0, 2**nbits, size=(8,nchunks)), \n",
    "          np.random.randint(0, 2**nbits, size=(64,nchunks)) )\n",
    "        for _ in range(100)\n",
    "    ],\n",
    "    configuration=configuration,\n",
    "    verbose=True,\n",
    ")\n",
    "\n",
    "# run circuits\n",
    "output_full_cnp = circuit.encrypt_run_decrypt( textAsInts, H_nbits, K256_nbits )\n",
    "\n",
    "# compute hash and compare it to the previous one\n",
    "hash_full_cnp = outputToHash(output_full_cnp)\n",
    "\n",
    "print(hash_full_cnp)\n",
    "assert(expectedHash==hash_full_cnp)\n",
    "print('hashes are equal !')\n",
    "```"
   ]
  },
  {
   "cell_type": "code",
   "execution_count": null,
   "metadata": {},
   "outputs": [],
   "source": []
  }
 ],
 "metadata": {
  "kernelspec": {
   "display_name": "Python 3",
   "language": "python",
   "name": "python3"
  },
  "language_info": {
   "codemirror_mode": {
    "name": "ipython",
    "version": 3
   },
   "file_extension": ".py",
   "mimetype": "text/x-python",
   "name": "python",
   "nbconvert_exporter": "python",
   "pygments_lexer": "ipython3",
   "version": "3.8.16"
  }
 },
 "nbformat": 4,
 "nbformat_minor": 4
}
